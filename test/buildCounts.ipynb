{
 "cells": [
  {
   "cell_type": "code",
   "execution_count": 1,
   "id": "da5e04cd-4a09-4525-ad61-15dc0e6ec3e3",
   "metadata": {},
   "outputs": [],
   "source": [
    "import pandas as pd\n",
    "import numpy as np\n",
    "import os\n",
    "import matplotlib.pyplot as plt\n",
    "import seaborn as sns\n"
   ]
  },
  {
   "cell_type": "code",
   "execution_count": 2,
   "id": "4e654517-1baa-498d-a2db-a2ef88642046",
   "metadata": {},
   "outputs": [
    {
     "name": "stdout",
     "output_type": "stream",
     "text": [
      "gf.shape=(262041, 5)\n",
      "41407\n",
      "gf.shape=(41407, 2)\n"
     ]
    },
    {
     "data": {
      "text/html": [
       "<div>\n",
       "<style scoped>\n",
       "    .dataframe tbody tr th:only-of-type {\n",
       "        vertical-align: middle;\n",
       "    }\n",
       "\n",
       "    .dataframe tbody tr th {\n",
       "        vertical-align: top;\n",
       "    }\n",
       "\n",
       "    .dataframe thead th {\n",
       "        text-align: right;\n",
       "    }\n",
       "</style>\n",
       "<table border=\"1\" class=\"dataframe\">\n",
       "  <thead>\n",
       "    <tr style=\"text-align: right;\">\n",
       "      <th></th>\n",
       "      <th>geneId</th>\n",
       "      <th>geneName</th>\n",
       "    </tr>\n",
       "  </thead>\n",
       "  <tbody>\n",
       "    <tr>\n",
       "      <th>0</th>\n",
       "      <td>ENSG00000160072</td>\n",
       "      <td>ATAD3B</td>\n",
       "    </tr>\n",
       "    <tr>\n",
       "      <th>7</th>\n",
       "      <td>ENSG00000225972</td>\n",
       "      <td>MTND1P23</td>\n",
       "    </tr>\n",
       "    <tr>\n",
       "      <th>9</th>\n",
       "      <td>ENSG00000224315</td>\n",
       "      <td>RPL7P7</td>\n",
       "    </tr>\n",
       "    <tr>\n",
       "      <th>11</th>\n",
       "      <td>ENSG00000198744</td>\n",
       "      <td>MTCO3P12</td>\n",
       "    </tr>\n",
       "    <tr>\n",
       "      <th>13</th>\n",
       "      <td>ENSG00000279928</td>\n",
       "      <td>DDX11L17</td>\n",
       "    </tr>\n",
       "  </tbody>\n",
       "</table>\n",
       "</div>"
      ],
      "text/plain": [
       "             geneId  geneName\n",
       "0   ENSG00000160072    ATAD3B\n",
       "7   ENSG00000225972  MTND1P23\n",
       "9   ENSG00000224315    RPL7P7\n",
       "11  ENSG00000198744  MTCO3P12\n",
       "13  ENSG00000279928  DDX11L17"
      ]
     },
     "execution_count": 2,
     "metadata": {},
     "output_type": "execute_result"
    }
   ],
   "source": [
    "geneNamesPath = \"/scratch/indikar_root/indikar1/shared_data/directRNA/references/geneNames.csv\"\n",
    "\n",
    "gf = pd.read_csv(geneNamesPath)\n",
    "print(f\"{gf.shape=}\")\n",
    "print(gf['geneId'].nunique())\n",
    "\n",
    "gf = gf[['geneId', 'geneName']].drop_duplicates()\n",
    "print(f\"{gf.shape=}\")\n",
    "\n",
    "gf.head()"
   ]
  },
  {
   "cell_type": "code",
   "execution_count": 7,
   "id": "ac818d57-ae9d-41d2-bd78-20a78a6691c2",
   "metadata": {},
   "outputs": [
    {
     "name": "stdout",
     "output_type": "stream",
     "text": [
      "df.shape=(41407, 3)\n"
     ]
    },
    {
     "data": {
      "text/html": [
       "<div>\n",
       "<style scoped>\n",
       "    .dataframe tbody tr th:only-of-type {\n",
       "        vertical-align: middle;\n",
       "    }\n",
       "\n",
       "    .dataframe tbody tr th {\n",
       "        vertical-align: top;\n",
       "    }\n",
       "\n",
       "    .dataframe thead th {\n",
       "        text-align: right;\n",
       "    }\n",
       "</style>\n",
       "<table border=\"1\" class=\"dataframe\">\n",
       "  <thead>\n",
       "    <tr style=\"text-align: right;\">\n",
       "      <th></th>\n",
       "      <th>geneId</th>\n",
       "      <th>geneName</th>\n",
       "      <th>poly_FAR96055_pass_8dd551a2_23</th>\n",
       "    </tr>\n",
       "  </thead>\n",
       "  <tbody>\n",
       "    <tr>\n",
       "      <th>0</th>\n",
       "      <td>ENSG00000160072</td>\n",
       "      <td>ATAD3B</td>\n",
       "      <td>0</td>\n",
       "    </tr>\n",
       "    <tr>\n",
       "      <th>1</th>\n",
       "      <td>ENSG00000225972</td>\n",
       "      <td>MTND1P23</td>\n",
       "      <td>0</td>\n",
       "    </tr>\n",
       "    <tr>\n",
       "      <th>2</th>\n",
       "      <td>ENSG00000224315</td>\n",
       "      <td>RPL7P7</td>\n",
       "      <td>0</td>\n",
       "    </tr>\n",
       "    <tr>\n",
       "      <th>3</th>\n",
       "      <td>ENSG00000198744</td>\n",
       "      <td>MTCO3P12</td>\n",
       "      <td>0</td>\n",
       "    </tr>\n",
       "    <tr>\n",
       "      <th>4</th>\n",
       "      <td>ENSG00000279928</td>\n",
       "      <td>DDX11L17</td>\n",
       "      <td>0</td>\n",
       "    </tr>\n",
       "  </tbody>\n",
       "</table>\n",
       "</div>"
      ],
      "text/plain": [
       "            geneId  geneName  poly_FAR96055_pass_8dd551a2_23\n",
       "0  ENSG00000160072    ATAD3B                               0\n",
       "1  ENSG00000225972  MTND1P23                               0\n",
       "2  ENSG00000224315    RPL7P7                               0\n",
       "3  ENSG00000198744  MTCO3P12                               0\n",
       "4  ENSG00000279928  DDX11L17                               0"
      ]
     },
     "execution_count": 7,
     "metadata": {},
     "output_type": "execute_result"
    }
   ],
   "source": [
    "dirPath = \"/scratch/indikar_root/indikar1/shared_data/directRNA/counts/\"\n",
    "\n",
    "df = gf.copy()\n",
    "\n",
    "fileNames = []\n",
    "\n",
    "for f in os.listdir(dirPath):\n",
    "    if \"poly\" in f:\n",
    "        fileId = f.split(\".\")[0]\n",
    "        fullPath = f\"{dirPath}{f}\"\n",
    "        tf = pd.read_csv(fullPath, header=None, sep=\"\\t\")\n",
    "        tf.columns = ['geneId', fileId]\n",
    "        fileNames.append(fileId)\n",
    "\n",
    "        df = pd.merge(df, tf, \n",
    "                      how='left',\n",
    "                      left_on='geneId',\n",
    "                      right_on='geneId')\n",
    "        \n",
    "        break\n",
    "    \n",
    "print(f\"{df.shape=}\")\n",
    "df = df.fillna(0)\n",
    "df.head()"
   ]
  },
  {
   "cell_type": "code",
   "execution_count": 8,
   "id": "db48867d-950e-4d46-b95e-62965f8d993b",
   "metadata": {},
   "outputs": [
    {
     "data": {
      "text/plain": [
       "0"
      ]
     },
     "execution_count": 8,
     "metadata": {},
     "output_type": "execute_result"
    }
   ],
   "source": [
    "df['GeneCount'] = df[fileNames].sum(axis=1)\n",
    "\n",
    "df['GeneCount'].max()"
   ]
  },
  {
   "cell_type": "code",
   "execution_count": 6,
   "id": "30672938-ce3e-4f81-aa64-56ef3457ec3d",
   "metadata": {},
   "outputs": [
    {
     "name": "stdout",
     "output_type": "stream",
     "text": [
      "total_FAS69398_pass_14a3cc95_9 27\n"
     ]
    }
   ],
   "source": [
    "for f in fileNames:\n",
    "    print(f, df[f].max())"
   ]
  },
  {
   "cell_type": "code",
   "execution_count": null,
   "id": "c7692cf8-da13-4ff3-a843-243eff488f7a",
   "metadata": {},
   "outputs": [],
   "source": []
  }
 ],
 "metadata": {
  "kernelspec": {
   "display_name": "Python 3 (ipykernel)",
   "language": "python",
   "name": "python3"
  },
  "language_info": {
   "codemirror_mode": {
    "name": "ipython",
    "version": 3
   },
   "file_extension": ".py",
   "mimetype": "text/x-python",
   "name": "python",
   "nbconvert_exporter": "python",
   "pygments_lexer": "ipython3",
   "version": "3.9.7"
  }
 },
 "nbformat": 4,
 "nbformat_minor": 5
}
