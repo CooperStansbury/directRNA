{
 "cells": [
  {
   "cell_type": "code",
   "execution_count": 1,
   "id": "da5e04cd-4a09-4525-ad61-15dc0e6ec3e3",
   "metadata": {},
   "outputs": [],
   "source": [
    "import pandas as pd\n",
    "import numpy as np\n",
    "import os\n",
    "import matplotlib.pyplot as plt\n",
    "import seaborn as sns\n",
    "import gget"
   ]
  },
  {
   "cell_type": "code",
   "execution_count": 2,
   "id": "4e654517-1baa-498d-a2db-a2ef88642046",
   "metadata": {},
   "outputs": [
    {
     "name": "stdout",
     "output_type": "stream",
     "text": [
      "gf.shape=(262041, 5)\n",
      "41407\n",
      "gf.shape=(41407, 2)\n"
     ]
    },
    {
     "data": {
      "text/html": [
       "<div>\n",
       "<style scoped>\n",
       "    .dataframe tbody tr th:only-of-type {\n",
       "        vertical-align: middle;\n",
       "    }\n",
       "\n",
       "    .dataframe tbody tr th {\n",
       "        vertical-align: top;\n",
       "    }\n",
       "\n",
       "    .dataframe thead th {\n",
       "        text-align: right;\n",
       "    }\n",
       "</style>\n",
       "<table border=\"1\" class=\"dataframe\">\n",
       "  <thead>\n",
       "    <tr style=\"text-align: right;\">\n",
       "      <th></th>\n",
       "      <th>geneId</th>\n",
       "      <th>geneName</th>\n",
       "    </tr>\n",
       "  </thead>\n",
       "  <tbody>\n",
       "    <tr>\n",
       "      <th>0</th>\n",
       "      <td>ENSG00000160072</td>\n",
       "      <td>ATAD3B</td>\n",
       "    </tr>\n",
       "    <tr>\n",
       "      <th>7</th>\n",
       "      <td>ENSG00000225972</td>\n",
       "      <td>MTND1P23</td>\n",
       "    </tr>\n",
       "    <tr>\n",
       "      <th>9</th>\n",
       "      <td>ENSG00000224315</td>\n",
       "      <td>RPL7P7</td>\n",
       "    </tr>\n",
       "    <tr>\n",
       "      <th>11</th>\n",
       "      <td>ENSG00000198744</td>\n",
       "      <td>MTCO3P12</td>\n",
       "    </tr>\n",
       "    <tr>\n",
       "      <th>13</th>\n",
       "      <td>ENSG00000279928</td>\n",
       "      <td>DDX11L17</td>\n",
       "    </tr>\n",
       "  </tbody>\n",
       "</table>\n",
       "</div>"
      ],
      "text/plain": [
       "             geneId  geneName\n",
       "0   ENSG00000160072    ATAD3B\n",
       "7   ENSG00000225972  MTND1P23\n",
       "9   ENSG00000224315    RPL7P7\n",
       "11  ENSG00000198744  MTCO3P12\n",
       "13  ENSG00000279928  DDX11L17"
      ]
     },
     "execution_count": 2,
     "metadata": {},
     "output_type": "execute_result"
    }
   ],
   "source": [
    "geneNamesPath = \"/scratch/indikar_root/indikar1/shared_data/experiment9/references/geneNames.csv\"\n",
    "\n",
    "gf = pd.read_csv(geneNamesPath)\n",
    "print(f\"{gf.shape=}\")\n",
    "print(gf['geneId'].nunique())\n",
    "\n",
    "gf = gf[['geneId', 'geneName']].drop_duplicates()\n",
    "print(f\"{gf.shape=}\")\n",
    "\n",
    "gf.head()"
   ]
  },
  {
   "cell_type": "code",
   "execution_count": 3,
   "id": "ac818d57-ae9d-41d2-bd78-20a78a6691c2",
   "metadata": {},
   "outputs": [
    {
     "name": "stdout",
     "output_type": "stream",
     "text": [
      "df.shape=(41407, 3)\n"
     ]
    },
    {
     "data": {
      "text/html": [
       "<div>\n",
       "<style scoped>\n",
       "    .dataframe tbody tr th:only-of-type {\n",
       "        vertical-align: middle;\n",
       "    }\n",
       "\n",
       "    .dataframe tbody tr th {\n",
       "        vertical-align: top;\n",
       "    }\n",
       "\n",
       "    .dataframe thead th {\n",
       "        text-align: right;\n",
       "    }\n",
       "</style>\n",
       "<table border=\"1\" class=\"dataframe\">\n",
       "  <thead>\n",
       "    <tr style=\"text-align: right;\">\n",
       "      <th></th>\n",
       "      <th>geneId</th>\n",
       "      <th>geneName</th>\n",
       "      <th>merged</th>\n",
       "    </tr>\n",
       "  </thead>\n",
       "  <tbody>\n",
       "    <tr>\n",
       "      <th>0</th>\n",
       "      <td>ENSG00000160072</td>\n",
       "      <td>ATAD3B</td>\n",
       "      <td>0</td>\n",
       "    </tr>\n",
       "    <tr>\n",
       "      <th>1</th>\n",
       "      <td>ENSG00000225972</td>\n",
       "      <td>MTND1P23</td>\n",
       "      <td>0</td>\n",
       "    </tr>\n",
       "    <tr>\n",
       "      <th>2</th>\n",
       "      <td>ENSG00000224315</td>\n",
       "      <td>RPL7P7</td>\n",
       "      <td>0</td>\n",
       "    </tr>\n",
       "    <tr>\n",
       "      <th>3</th>\n",
       "      <td>ENSG00000198744</td>\n",
       "      <td>MTCO3P12</td>\n",
       "      <td>0</td>\n",
       "    </tr>\n",
       "    <tr>\n",
       "      <th>4</th>\n",
       "      <td>ENSG00000279928</td>\n",
       "      <td>DDX11L17</td>\n",
       "      <td>0</td>\n",
       "    </tr>\n",
       "  </tbody>\n",
       "</table>\n",
       "</div>"
      ],
      "text/plain": [
       "            geneId  geneName  merged\n",
       "0  ENSG00000160072    ATAD3B       0\n",
       "1  ENSG00000225972  MTND1P23       0\n",
       "2  ENSG00000224315    RPL7P7       0\n",
       "3  ENSG00000198744  MTCO3P12       0\n",
       "4  ENSG00000279928  DDX11L17       0"
      ]
     },
     "execution_count": 3,
     "metadata": {},
     "output_type": "execute_result"
    }
   ],
   "source": [
    "dirPath = \"/scratch/indikar_root/indikar1/shared_data/experiment9/counts/\"\n",
    "\n",
    "df = gf.copy()\n",
    "\n",
    "fileNames = []\n",
    "\n",
    "for f in os.listdir(dirPath):\n",
    "    fileId = f.split(\".\")[0]\n",
    "    fullPath = f\"{dirPath}{f}\"\n",
    "    tf = pd.read_csv(fullPath, header=None, sep=\"\\t\")\n",
    "\n",
    "    tf.columns = ['geneId', fileId]\n",
    "    fileNames.append(fileId)\n",
    "\n",
    "    df = pd.merge(df, tf, \n",
    "                  how='left',\n",
    "                  left_on='geneId',\n",
    "                  right_on='geneId')\n",
    "    \n",
    "print(f\"{df.shape=}\")\n",
    "df = df.fillna(0)\n",
    "df.head()"
   ]
  },
  {
   "cell_type": "code",
   "execution_count": 4,
   "id": "77a04fe4-3bfa-42db-91f8-d73fd40ee46e",
   "metadata": {},
   "outputs": [
    {
     "data": {
      "text/plain": [
       "count     41407.000000\n",
       "mean         46.127321\n",
       "std        1150.484983\n",
       "min           0.000000\n",
       "25%           0.000000\n",
       "50%           0.000000\n",
       "75%           0.000000\n",
       "max      100025.000000\n",
       "Name: merged, dtype: float64"
      ]
     },
     "execution_count": 4,
     "metadata": {},
     "output_type": "execute_result"
    }
   ],
   "source": [
    "df['merged'].describe()"
   ]
  },
  {
   "cell_type": "code",
   "execution_count": 5,
   "id": "8768e566-1253-4c29-9215-38c161ca7167",
   "metadata": {},
   "outputs": [
    {
     "data": {
      "text/plain": [
       "0    41086\n",
       "1      321\n",
       "Name: binary, dtype: int64"
      ]
     },
     "execution_count": 5,
     "metadata": {},
     "output_type": "execute_result"
    }
   ],
   "source": [
    "df['binary'] = df['merged'].astype(bool).astype(int)\n",
    "df['binary'].value_counts()"
   ]
  },
  {
   "cell_type": "code",
   "execution_count": 6,
   "id": "893fb788-0986-42a3-af26-89a4a595d740",
   "metadata": {},
   "outputs": [
    {
     "data": {
      "text/html": [
       "<div>\n",
       "<style scoped>\n",
       "    .dataframe tbody tr th:only-of-type {\n",
       "        vertical-align: middle;\n",
       "    }\n",
       "\n",
       "    .dataframe tbody tr th {\n",
       "        vertical-align: top;\n",
       "    }\n",
       "\n",
       "    .dataframe thead th {\n",
       "        text-align: right;\n",
       "    }\n",
       "</style>\n",
       "<table border=\"1\" class=\"dataframe\">\n",
       "  <thead>\n",
       "    <tr style=\"text-align: right;\">\n",
       "      <th></th>\n",
       "      <th>geneId</th>\n",
       "      <th>geneName</th>\n",
       "      <th>merged</th>\n",
       "      <th>binary</th>\n",
       "    </tr>\n",
       "  </thead>\n",
       "  <tbody>\n",
       "    <tr>\n",
       "      <th>266</th>\n",
       "      <td>ENSG00000132507</td>\n",
       "      <td>EIF5A</td>\n",
       "      <td>100025</td>\n",
       "      <td>1</td>\n",
       "    </tr>\n",
       "    <tr>\n",
       "      <th>121</th>\n",
       "      <td>ENSG00000075624</td>\n",
       "      <td>ACTB</td>\n",
       "      <td>75135</td>\n",
       "      <td>1</td>\n",
       "    </tr>\n",
       "    <tr>\n",
       "      <th>97</th>\n",
       "      <td>ENSG00000169045</td>\n",
       "      <td>HNRNPH1</td>\n",
       "      <td>65268</td>\n",
       "      <td>1</td>\n",
       "    </tr>\n",
       "    <tr>\n",
       "      <th>150</th>\n",
       "      <td>ENSG00000119335</td>\n",
       "      <td>SET</td>\n",
       "      <td>47178</td>\n",
       "      <td>1</td>\n",
       "    </tr>\n",
       "    <tr>\n",
       "      <th>196</th>\n",
       "      <td>ENSG00000111445</td>\n",
       "      <td>RFC5</td>\n",
       "      <td>38922</td>\n",
       "      <td>1</td>\n",
       "    </tr>\n",
       "  </tbody>\n",
       "</table>\n",
       "</div>"
      ],
      "text/plain": [
       "              geneId geneName  merged  binary\n",
       "266  ENSG00000132507    EIF5A  100025       1\n",
       "121  ENSG00000075624     ACTB   75135       1\n",
       "97   ENSG00000169045  HNRNPH1   65268       1\n",
       "150  ENSG00000119335      SET   47178       1\n",
       "196  ENSG00000111445     RFC5   38922       1"
      ]
     },
     "execution_count": 6,
     "metadata": {},
     "output_type": "execute_result"
    }
   ],
   "source": [
    "# drop non-expressed genes\n",
    "exp = df[df['binary'] == 1].reset_index(drop=True)\n",
    "exp = exp.sort_values(by='merged', ascending=False)\n",
    "exp.head()"
   ]
  },
  {
   "cell_type": "code",
   "execution_count": 9,
   "id": "dee4f6f4-f09f-4239-9d09-8904d55a6130",
   "metadata": {},
   "outputs": [
    {
     "data": {
      "text/html": [
       "<div>\n",
       "<style scoped>\n",
       "    .dataframe tbody tr th:only-of-type {\n",
       "        vertical-align: middle;\n",
       "    }\n",
       "\n",
       "    .dataframe tbody tr th {\n",
       "        vertical-align: top;\n",
       "    }\n",
       "\n",
       "    .dataframe thead th {\n",
       "        text-align: right;\n",
       "    }\n",
       "</style>\n",
       "<table border=\"1\" class=\"dataframe\">\n",
       "  <thead>\n",
       "    <tr style=\"text-align: right;\">\n",
       "      <th></th>\n",
       "      <th>geneId</th>\n",
       "      <th>geneName</th>\n",
       "      <th>merged</th>\n",
       "      <th>binary</th>\n",
       "    </tr>\n",
       "  </thead>\n",
       "  <tbody>\n",
       "    <tr>\n",
       "      <th>34324</th>\n",
       "      <td>ENSG00000132507</td>\n",
       "      <td>EIF5A</td>\n",
       "      <td>100025</td>\n",
       "      <td>1</td>\n",
       "    </tr>\n",
       "    <tr>\n",
       "      <th>15875</th>\n",
       "      <td>ENSG00000075624</td>\n",
       "      <td>ACTB</td>\n",
       "      <td>75135</td>\n",
       "      <td>1</td>\n",
       "    </tr>\n",
       "    <tr>\n",
       "      <th>12531</th>\n",
       "      <td>ENSG00000169045</td>\n",
       "      <td>HNRNPH1</td>\n",
       "      <td>65268</td>\n",
       "      <td>1</td>\n",
       "    </tr>\n",
       "    <tr>\n",
       "      <th>21657</th>\n",
       "      <td>ENSG00000119335</td>\n",
       "      <td>SET</td>\n",
       "      <td>47178</td>\n",
       "      <td>1</td>\n",
       "    </tr>\n",
       "    <tr>\n",
       "      <th>26599</th>\n",
       "      <td>ENSG00000111445</td>\n",
       "      <td>RFC5</td>\n",
       "      <td>38922</td>\n",
       "      <td>1</td>\n",
       "    </tr>\n",
       "  </tbody>\n",
       "</table>\n",
       "</div>"
      ],
      "text/plain": [
       "                geneId geneName  merged  binary\n",
       "34324  ENSG00000132507    EIF5A  100025       1\n",
       "15875  ENSG00000075624     ACTB   75135       1\n",
       "12531  ENSG00000169045  HNRNPH1   65268       1\n",
       "21657  ENSG00000119335      SET   47178       1\n",
       "26599  ENSG00000111445     RFC5   38922       1"
      ]
     },
     "execution_count": 9,
     "metadata": {},
     "output_type": "execute_result"
    }
   ],
   "source": [
    "df = df.sort_values(by='merged', ascending=False)\n",
    "df.head()"
   ]
  },
  {
   "cell_type": "code",
   "execution_count": null,
   "id": "621fda80-8d61-40e2-b896-f714cb1f742c",
   "metadata": {},
   "outputs": [],
   "source": []
  },
  {
   "cell_type": "code",
   "execution_count": 8,
   "id": "0bb61102-8130-4612-8173-115a9cc430e1",
   "metadata": {},
   "outputs": [
    {
     "ename": "SyntaxError",
     "evalue": "'break' outside loop (668683560.py, line 1)",
     "output_type": "error",
     "traceback": [
      "\u001b[0;36m  File \u001b[0;32m\"/tmp/ipykernel_1181301/668683560.py\"\u001b[0;36m, line \u001b[0;32m1\u001b[0m\n\u001b[0;31m    break\u001b[0m\n\u001b[0m    ^\u001b[0m\n\u001b[0;31mSyntaxError\u001b[0m\u001b[0;31m:\u001b[0m 'break' outside loop\n"
     ]
    }
   ],
   "source": [
    "# break"
   ]
  },
  {
   "cell_type": "code",
   "execution_count": 13,
   "id": "87f8bc6c-305e-4077-81ff-11968770be8e",
   "metadata": {},
   "outputs": [
    {
     "name": "stderr",
     "output_type": "stream",
     "text": [
      "Thu Jan 26 16:19:30 2023 INFO Performing Enichr analysis using database PanglaoDB_Augmented_2021.\n"
     ]
    },
    {
     "data": {
      "text/html": [
       "<div>\n",
       "<style scoped>\n",
       "    .dataframe tbody tr th:only-of-type {\n",
       "        vertical-align: middle;\n",
       "    }\n",
       "\n",
       "    .dataframe tbody tr th {\n",
       "        vertical-align: top;\n",
       "    }\n",
       "\n",
       "    .dataframe thead th {\n",
       "        text-align: right;\n",
       "    }\n",
       "</style>\n",
       "<table border=\"1\" class=\"dataframe\">\n",
       "  <thead>\n",
       "    <tr style=\"text-align: right;\">\n",
       "      <th></th>\n",
       "      <th>path_name</th>\n",
       "      <th>p_val</th>\n",
       "      <th>overlapping_genes</th>\n",
       "    </tr>\n",
       "  </thead>\n",
       "  <tbody>\n",
       "    <tr>\n",
       "      <th>0</th>\n",
       "      <td>Pluripotent Stem Cells</td>\n",
       "      <td>0.001508</td>\n",
       "      <td>[MSH6, SPN, NUP107, SET, NCL, FUBP1, NAP1L1]</td>\n",
       "    </tr>\n",
       "    <tr>\n",
       "      <th>1</th>\n",
       "      <td>Chondrocytes</td>\n",
       "      <td>0.022975</td>\n",
       "      <td>[CCDC80, C1R, NOG, CTNNB1, IGFBP7, DKK3]</td>\n",
       "    </tr>\n",
       "    <tr>\n",
       "      <th>2</th>\n",
       "      <td>Osteocytes</td>\n",
       "      <td>0.060066</td>\n",
       "      <td>[WWTR1, SERPINH1, SLIT2, CNN3]</td>\n",
       "    </tr>\n",
       "    <tr>\n",
       "      <th>3</th>\n",
       "      <td>Fibroblasts</td>\n",
       "      <td>0.061200</td>\n",
       "      <td>[CCDC80, C1R, SERPINH1, IGFBP7, VIM, DKK3, RUNX1]</td>\n",
       "    </tr>\n",
       "    <tr>\n",
       "      <th>4</th>\n",
       "      <td>Airway Smooth Muscle Cells</td>\n",
       "      <td>0.061891</td>\n",
       "      <td>[NOG, SERPINH1, IGFBP7, DKK3]</td>\n",
       "    </tr>\n",
       "    <tr>\n",
       "      <th>5</th>\n",
       "      <td>Reticulocytes</td>\n",
       "      <td>0.069477</td>\n",
       "      <td>[GLE1, HNRNPL, NUP107, POLR2B]</td>\n",
       "    </tr>\n",
       "    <tr>\n",
       "      <th>6</th>\n",
       "      <td>Vascular Smooth Muscle Cells</td>\n",
       "      <td>0.069477</td>\n",
       "      <td>[CCDC80, C1R, MYH11, SLIT2]</td>\n",
       "    </tr>\n",
       "    <tr>\n",
       "      <th>7</th>\n",
       "      <td>Loop Of Henle Cells</td>\n",
       "      <td>0.070844</td>\n",
       "      <td>[C1R, IGFBP7, TRPM7, THBS1, DKK3]</td>\n",
       "    </tr>\n",
       "    <tr>\n",
       "      <th>8</th>\n",
       "      <td>Mesangial Cells</td>\n",
       "      <td>0.072469</td>\n",
       "      <td>[CCDC80, C1R, ACTN1, CRIM1, DKK3]</td>\n",
       "    </tr>\n",
       "    <tr>\n",
       "      <th>9</th>\n",
       "      <td>Peri-islet Schwann Cells</td>\n",
       "      <td>0.092655</td>\n",
       "      <td>[MAP1B, SLIT2, DKK3, GULP1]</td>\n",
       "    </tr>\n",
       "  </tbody>\n",
       "</table>\n",
       "</div>"
      ],
      "text/plain": [
       "                      path_name     p_val  \\\n",
       "0        Pluripotent Stem Cells  0.001508   \n",
       "1                  Chondrocytes  0.022975   \n",
       "2                    Osteocytes  0.060066   \n",
       "3                   Fibroblasts  0.061200   \n",
       "4    Airway Smooth Muscle Cells  0.061891   \n",
       "5                 Reticulocytes  0.069477   \n",
       "6  Vascular Smooth Muscle Cells  0.069477   \n",
       "7           Loop Of Henle Cells  0.070844   \n",
       "8               Mesangial Cells  0.072469   \n",
       "9      Peri-islet Schwann Cells  0.092655   \n",
       "\n",
       "                                   overlapping_genes  \n",
       "0       [MSH6, SPN, NUP107, SET, NCL, FUBP1, NAP1L1]  \n",
       "1           [CCDC80, C1R, NOG, CTNNB1, IGFBP7, DKK3]  \n",
       "2                     [WWTR1, SERPINH1, SLIT2, CNN3]  \n",
       "3  [CCDC80, C1R, SERPINH1, IGFBP7, VIM, DKK3, RUNX1]  \n",
       "4                      [NOG, SERPINH1, IGFBP7, DKK3]  \n",
       "5                     [GLE1, HNRNPL, NUP107, POLR2B]  \n",
       "6                        [CCDC80, C1R, MYH11, SLIT2]  \n",
       "7                  [C1R, IGFBP7, TRPM7, THBS1, DKK3]  \n",
       "8                  [CCDC80, C1R, ACTN1, CRIM1, DKK3]  \n",
       "9                        [MAP1B, SLIT2, DKK3, GULP1]  "
      ]
     },
     "execution_count": 13,
     "metadata": {},
     "output_type": "execute_result"
    }
   ],
   "source": [
    "top = 300\n",
    "genes = df['geneName'].head(top).to_list()\n",
    "\n",
    "db = 'PanglaoDB_Augmented_2021'\n",
    "ef = gget.enrichr(genes, database=db)\n",
    "pd.set_option('display.max_colwidth', 200)\n",
    "ef[['path_name', 'p_val', 'overlapping_genes']].head(10)"
   ]
  },
  {
   "cell_type": "code",
   "execution_count": null,
   "id": "529568cc-6253-4c08-ad09-048c45a22fea",
   "metadata": {},
   "outputs": [],
   "source": [
    "# t = 0\n",
    "# genes = df[df['GeneCount'] > t]['geneName'].to_list()\n",
    "# genes"
   ]
  },
  {
   "cell_type": "code",
   "execution_count": null,
   "id": "c7692cf8-da13-4ff3-a843-243eff488f7a",
   "metadata": {},
   "outputs": [],
   "source": [
    "# t = 0\n",
    "# genes = df[df['GeneCount'] > t]['geneName'].to_list()\n",
    "# print(len(genes))\n",
    "\n",
    "# db = 'PanglaoDB_Augmented_2021'\n",
    "# ef = gget.enrichr(genes, database=db)\n",
    "# pd.set_option('display.max_colwidth', 200)\n",
    "\n",
    "# ef[['path_name', 'p_val', 'overlapping_genes']].head(10)"
   ]
  },
  {
   "cell_type": "code",
   "execution_count": null,
   "id": "45767249-833b-47dc-a950-80ba9740a187",
   "metadata": {},
   "outputs": [],
   "source": [
    "# alpha = 0.05\n",
    "# ef  = ef[ef['p_val'] <= alpha]\n",
    "# ef.to_csv(\"CellTypePredictions.csv\", index=False)\n"
   ]
  },
  {
   "cell_type": "code",
   "execution_count": null,
   "id": "73a5fd18-a0b3-4b87-9885-17f88529923c",
   "metadata": {},
   "outputs": [],
   "source": []
  }
 ],
 "metadata": {
  "kernelspec": {
   "display_name": "Python 3 (ipykernel)",
   "language": "python",
   "name": "python3"
  },
  "language_info": {
   "codemirror_mode": {
    "name": "ipython",
    "version": 3
   },
   "file_extension": ".py",
   "mimetype": "text/x-python",
   "name": "python",
   "nbconvert_exporter": "python",
   "pygments_lexer": "ipython3",
   "version": "3.9.7"
  }
 },
 "nbformat": 4,
 "nbformat_minor": 5
}
